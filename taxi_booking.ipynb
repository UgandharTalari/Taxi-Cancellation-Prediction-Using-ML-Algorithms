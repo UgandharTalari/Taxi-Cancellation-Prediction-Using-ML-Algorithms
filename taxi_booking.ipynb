{
 "cells": [
  {
   "cell_type": "code",
   "execution_count": 1,
   "id": "32897d4f",
   "metadata": {},
   "outputs": [],
   "source": [
    "import warnings\n",
    "warnings.filterwarnings('ignore')\n",
    "import pandas as pd\n",
    "import numpy as np\n",
    "import matplotlib.pyplot as plt\n",
    "from sklearn.model_selection import train_test_split\n",
    "from sklearn.model_selection import cross_val_score\n",
    "from sklearn import metrics\n",
    "from sklearn.linear_model import LogisticRegression \n",
    "from sklearn.svm import SVC \n",
    "from sklearn.neighbors import KNeighborsClassifier \n",
    "from sklearn.tree import DecisionTreeClassifier \n",
    "from sklearn.ensemble import RandomForestClassifier\n",
    "from sklearn.naive_bayes import GaussianNB"
   ]
  },
  {
   "cell_type": "code",
   "execution_count": 2,
   "id": "0b083c3b",
   "metadata": {},
   "outputs": [],
   "source": [
    "taxi_df = pd.read_csv(\"taxi_training.csv\")\n",
    "taxi_testing  = pd.read_csv(\"taxi_testing.csv\")"
   ]
  },
  {
   "cell_type": "code",
   "execution_count": 3,
   "id": "7458c45a",
   "metadata": {},
   "outputs": [
    {
     "name": "stdout",
     "output_type": "stream",
     "text": [
      "   booking_id  user_id  vehicle_model_id  package_id  travel_type_id  \\\n",
      "0           1    17712                12         NaN               2   \n",
      "1           2    17037                12         NaN               2   \n",
      "2           3      761                12         NaN               2   \n",
      "3           4      868                12         NaN               2   \n",
      "4           5    21716                28         NaN               2   \n",
      "\n",
      "   from_area_id  to_area_id  from_city_id  to_city_id       from_date  \\\n",
      "0        1021.0      1323.0           NaN         NaN  1/1/2013 22:33   \n",
      "1         455.0      1330.0           NaN         NaN  1/1/2013 12:43   \n",
      "2         814.0       393.0           NaN         NaN   1/2/2013 0:28   \n",
      "3         297.0       212.0           NaN         NaN  1/1/2013 13:12   \n",
      "4        1237.0       330.0           NaN         NaN  1/1/2013 16:33   \n",
      "\n",
      "         to_date  online_booking  mobile_site_booking booking_created  \\\n",
      "0            NaN               0                    0   1/1/2013 8:01   \n",
      "1            NaN               0                    0   1/1/2013 9:59   \n",
      "2  1/3/2013 0:00               1                    0  1/1/2013 12:14   \n",
      "3            NaN               0                    0  1/1/2013 12:42   \n",
      "4            NaN               0                    0  1/1/2013 15:07   \n",
      "\n",
      "    from_lat  from_long     to_lat    to_long  Car_Cancellation  \n",
      "0  13.028530   77.54625  12.869805  77.653211                 0  \n",
      "1  12.999874   77.67812  12.953434  77.706510                 0  \n",
      "2  12.908993   77.68890  13.199560  77.706880                 0  \n",
      "3  12.997890   77.61488  12.994740  77.607970                 0  \n",
      "4  12.926450   77.61206  12.858833  77.589127                 0  \n",
      "<class 'pandas.core.frame.DataFrame'>\n",
      "RangeIndex: 7107 entries, 0 to 7106\n",
      "Data columns (total 19 columns):\n",
      " #   Column               Non-Null Count  Dtype  \n",
      "---  ------               --------------  -----  \n",
      " 0   booking_id           7107 non-null   int64  \n",
      " 1   user_id              7107 non-null   int64  \n",
      " 2   vehicle_model_id     7107 non-null   int64  \n",
      " 3   package_id           1223 non-null   float64\n",
      " 4   travel_type_id       7107 non-null   int64  \n",
      " 5   from_area_id         7097 non-null   float64\n",
      " 6   to_area_id           5635 non-null   float64\n",
      " 7   from_city_id         2460 non-null   float64\n",
      " 8   to_city_id           249 non-null    float64\n",
      " 9   from_date            7107 non-null   object \n",
      " 10  to_date              4012 non-null   object \n",
      " 11  online_booking       7107 non-null   int64  \n",
      " 12  mobile_site_booking  7107 non-null   int64  \n",
      " 13  booking_created      7107 non-null   object \n",
      " 14  from_lat             7097 non-null   float64\n",
      " 15  from_long            7097 non-null   float64\n",
      " 16  to_lat               5635 non-null   float64\n",
      " 17  to_long              5635 non-null   float64\n",
      " 18  Car_Cancellation     7107 non-null   int64  \n",
      "dtypes: float64(9), int64(7), object(3)\n",
      "memory usage: 1.0+ MB\n",
      "None\n",
      "Index(['booking_id', 'user_id', 'vehicle_model_id', 'package_id',\n",
      "       'travel_type_id', 'from_area_id', 'to_area_id', 'from_city_id',\n",
      "       'to_city_id', 'from_date', 'to_date', 'online_booking',\n",
      "       'mobile_site_booking', 'booking_created', 'from_lat', 'from_long',\n",
      "       'to_lat', 'to_long', 'Car_Cancellation'],\n",
      "      dtype='object')\n"
     ]
    }
   ],
   "source": [
    "print(taxi_df.head())\n",
    "print(taxi_df.info())\n",
    "print(taxi_df.columns)"
   ]
  },
  {
   "cell_type": "code",
   "execution_count": 4,
   "id": "27b3bdaa",
   "metadata": {},
   "outputs": [],
   "source": [
    "# filling nan values with forwad fill method\n",
    "taxi_df['to_area_id'] = taxi_df['to_area_id'].fillna(method='ffill')\n",
    "taxi_df['from_area_id'] = taxi_df['from_area_id'].fillna(method='ffill')"
   ]
  },
  {
   "cell_type": "code",
   "execution_count": 5,
   "id": "b0114f05",
   "metadata": {},
   "outputs": [],
   "source": [
    "#filling nan values with backward fill method\n",
    "taxi_testing['to_area_id'] = taxi_testing['to_area_id'].fillna(method='bfill')\n",
    "taxi_testing['from_area_id'] = taxi_testing['from_area_id'].fillna(method='ffill')"
   ]
  },
  {
   "cell_type": "code",
   "execution_count": 36,
   "id": "34998641",
   "metadata": {},
   "outputs": [],
   "source": [
    "X = taxi_df[['booking_id', 'user_id','from_area_id', 'to_area_id', 'online_booking', 'mobile_site_booking']]\n",
    "y = taxi_df[['Car_Cancellation']]"
   ]
  },
  {
   "cell_type": "code",
   "execution_count": 38,
   "id": "330bd873",
   "metadata": {},
   "outputs": [
    {
     "data": {
      "text/html": [
       "<div>\n",
       "<style scoped>\n",
       "    .dataframe tbody tr th:only-of-type {\n",
       "        vertical-align: middle;\n",
       "    }\n",
       "\n",
       "    .dataframe tbody tr th {\n",
       "        vertical-align: top;\n",
       "    }\n",
       "\n",
       "    .dataframe thead th {\n",
       "        text-align: right;\n",
       "    }\n",
       "</style>\n",
       "<table border=\"1\" class=\"dataframe\">\n",
       "  <thead>\n",
       "    <tr style=\"text-align: right;\">\n",
       "      <th></th>\n",
       "      <th>booking_id</th>\n",
       "      <th>user_id</th>\n",
       "      <th>from_area_id</th>\n",
       "      <th>to_area_id</th>\n",
       "      <th>online_booking</th>\n",
       "      <th>mobile_site_booking</th>\n",
       "    </tr>\n",
       "  </thead>\n",
       "  <tbody>\n",
       "    <tr>\n",
       "      <th>0</th>\n",
       "      <td>10093</td>\n",
       "      <td>23775</td>\n",
       "      <td>1217.0</td>\n",
       "      <td>87.0</td>\n",
       "      <td>0</td>\n",
       "      <td>0</td>\n",
       "    </tr>\n",
       "    <tr>\n",
       "      <th>1</th>\n",
       "      <td>10094</td>\n",
       "      <td>38447</td>\n",
       "      <td>393.0</td>\n",
       "      <td>87.0</td>\n",
       "      <td>0</td>\n",
       "      <td>0</td>\n",
       "    </tr>\n",
       "    <tr>\n",
       "      <th>2</th>\n",
       "      <td>10095</td>\n",
       "      <td>28359</td>\n",
       "      <td>58.0</td>\n",
       "      <td>1021.0</td>\n",
       "      <td>0</td>\n",
       "      <td>0</td>\n",
       "    </tr>\n",
       "    <tr>\n",
       "      <th>3</th>\n",
       "      <td>10096</td>\n",
       "      <td>2844</td>\n",
       "      <td>1337.0</td>\n",
       "      <td>571.0</td>\n",
       "      <td>0</td>\n",
       "      <td>0</td>\n",
       "    </tr>\n",
       "    <tr>\n",
       "      <th>4</th>\n",
       "      <td>10097</td>\n",
       "      <td>46947</td>\n",
       "      <td>852.0</td>\n",
       "      <td>393.0</td>\n",
       "      <td>1</td>\n",
       "      <td>0</td>\n",
       "    </tr>\n",
       "    <tr>\n",
       "      <th>...</th>\n",
       "      <td>...</td>\n",
       "      <td>...</td>\n",
       "      <td>...</td>\n",
       "      <td>...</td>\n",
       "      <td>...</td>\n",
       "      <td>...</td>\n",
       "    </tr>\n",
       "    <tr>\n",
       "      <th>2862</th>\n",
       "      <td>12955</td>\n",
       "      <td>36363</td>\n",
       "      <td>689.0</td>\n",
       "      <td>585.0</td>\n",
       "      <td>0</td>\n",
       "      <td>0</td>\n",
       "    </tr>\n",
       "    <tr>\n",
       "      <th>2863</th>\n",
       "      <td>12956</td>\n",
       "      <td>34749</td>\n",
       "      <td>49.0</td>\n",
       "      <td>393.0</td>\n",
       "      <td>1</td>\n",
       "      <td>0</td>\n",
       "    </tr>\n",
       "    <tr>\n",
       "      <th>2864</th>\n",
       "      <td>12957</td>\n",
       "      <td>45609</td>\n",
       "      <td>105.0</td>\n",
       "      <td>393.0</td>\n",
       "      <td>0</td>\n",
       "      <td>0</td>\n",
       "    </tr>\n",
       "    <tr>\n",
       "      <th>2865</th>\n",
       "      <td>12958</td>\n",
       "      <td>868</td>\n",
       "      <td>585.0</td>\n",
       "      <td>571.0</td>\n",
       "      <td>0</td>\n",
       "      <td>0</td>\n",
       "    </tr>\n",
       "    <tr>\n",
       "      <th>2866</th>\n",
       "      <td>12959</td>\n",
       "      <td>27611</td>\n",
       "      <td>1154.0</td>\n",
       "      <td>1159.0</td>\n",
       "      <td>0</td>\n",
       "      <td>0</td>\n",
       "    </tr>\n",
       "  </tbody>\n",
       "</table>\n",
       "<p>2867 rows × 6 columns</p>\n",
       "</div>"
      ],
      "text/plain": [
       "      booking_id  user_id  from_area_id  to_area_id  online_booking  \\\n",
       "0          10093    23775        1217.0        87.0               0   \n",
       "1          10094    38447         393.0        87.0               0   \n",
       "2          10095    28359          58.0      1021.0               0   \n",
       "3          10096     2844        1337.0       571.0               0   \n",
       "4          10097    46947         852.0       393.0               1   \n",
       "...          ...      ...           ...         ...             ...   \n",
       "2862       12955    36363         689.0       585.0               0   \n",
       "2863       12956    34749          49.0       393.0               1   \n",
       "2864       12957    45609         105.0       393.0               0   \n",
       "2865       12958      868         585.0       571.0               0   \n",
       "2866       12959    27611        1154.0      1159.0               0   \n",
       "\n",
       "      mobile_site_booking  \n",
       "0                       0  \n",
       "1                       0  \n",
       "2                       0  \n",
       "3                       0  \n",
       "4                       0  \n",
       "...                   ...  \n",
       "2862                    0  \n",
       "2863                    0  \n",
       "2864                    0  \n",
       "2865                    0  \n",
       "2866                    0  \n",
       "\n",
       "[2867 rows x 6 columns]"
      ]
     },
     "execution_count": 38,
     "metadata": {},
     "output_type": "execute_result"
    }
   ],
   "source": [
    "taxi_testing"
   ]
  },
  {
   "cell_type": "code",
   "execution_count": 39,
   "id": "4270970d",
   "metadata": {},
   "outputs": [],
   "source": [
    "taxi_testing = taxi_testing[['booking_id', 'user_id', 'from_area_id', 'to_area_id', 'online_booking', 'mobile_site_booking']]\n",
    "\n",
    "\n"
   ]
  },
  {
   "cell_type": "code",
   "execution_count": 40,
   "id": "3a210bd1",
   "metadata": {},
   "outputs": [
    {
     "data": {
      "text/plain": [
       "booking_id                0\n",
       "user_id                   0\n",
       "from_area_id              0\n",
       "to_area_id                0\n",
       "online_booking            0\n",
       "mobile_site_booking       0\n",
       "from_lat                 10\n",
       "to_lat                 1472\n",
       "dtype: int64"
      ]
     },
     "execution_count": 40,
     "metadata": {},
     "output_type": "execute_result"
    }
   ],
   "source": [
    "X.isna().sum()"
   ]
  },
  {
   "cell_type": "code",
   "execution_count": 41,
   "id": "0c9a4020",
   "metadata": {},
   "outputs": [
    {
     "data": {
      "text/plain": [
       "booking_id             0\n",
       "user_id                0\n",
       "from_area_id           0\n",
       "to_area_id             0\n",
       "online_booking         0\n",
       "mobile_site_booking    0\n",
       "dtype: int64"
      ]
     },
     "execution_count": 41,
     "metadata": {},
     "output_type": "execute_result"
    }
   ],
   "source": [
    "taxi_testing.isna().sum()"
   ]
  },
  {
   "cell_type": "code",
   "execution_count": 27,
   "id": "f80404d5",
   "metadata": {},
   "outputs": [],
   "source": [
    "#splitting data frame with 75 and 25 split for trainin and testing\n",
    "X_training, X_test, y_training, y_test = train_test_split(X, y, test_size=0.25, random_state=32)"
   ]
  },
  {
   "cell_type": "code",
   "execution_count": 28,
   "id": "b48f5b32",
   "metadata": {},
   "outputs": [],
   "source": [
    "model_pipeline = []\n",
    "model_pipeline.append(LogisticRegression(solver='liblinear'))\n",
    "model_pipeline.append(SVC())\n",
    "model_pipeline.append(KNeighborsClassifier())\n",
    "model_pipeline.append(DecisionTreeClassifier())\n",
    "model_pipeline.append(RandomForestClassifier(n_estimators=15))\n",
    "model_pipeline.append(GaussianNB())"
   ]
  },
  {
   "cell_type": "code",
   "execution_count": 29,
   "id": "909ab15a",
   "metadata": {},
   "outputs": [],
   "source": [
    "models_list = ['Logistic Regression', 'SVM', 'KNN', 'Decision Tree', 'Random Forest', 'Navie Bayes']\n",
    "acc_list = []\n",
    "for model in model_pipeline:\n",
    "    model.fit(X_training, y_training)\n",
    "    y_pred = model.predict(X_test)\n",
    "    acc_list.append(metrics.accuracy_score(y_test, y_pred))"
   ]
  },
  {
   "cell_type": "code",
   "execution_count": 30,
   "id": "1014efff",
   "metadata": {},
   "outputs": [
    {
     "data": {
      "text/html": [
       "<div>\n",
       "<style scoped>\n",
       "    .dataframe tbody tr th:only-of-type {\n",
       "        vertical-align: middle;\n",
       "    }\n",
       "\n",
       "    .dataframe tbody tr th {\n",
       "        vertical-align: top;\n",
       "    }\n",
       "\n",
       "    .dataframe thead th {\n",
       "        text-align: right;\n",
       "    }\n",
       "</style>\n",
       "<table border=\"1\" class=\"dataframe\">\n",
       "  <thead>\n",
       "    <tr style=\"text-align: right;\">\n",
       "      <th></th>\n",
       "      <th>Model</th>\n",
       "      <th>Accuracy</th>\n",
       "    </tr>\n",
       "  </thead>\n",
       "  <tbody>\n",
       "    <tr>\n",
       "      <th>0</th>\n",
       "      <td>Logistic Regression</td>\n",
       "      <td>0.931345</td>\n",
       "    </tr>\n",
       "    <tr>\n",
       "      <th>1</th>\n",
       "      <td>SVM</td>\n",
       "      <td>0.931908</td>\n",
       "    </tr>\n",
       "    <tr>\n",
       "      <th>2</th>\n",
       "      <td>KNN</td>\n",
       "      <td>0.926280</td>\n",
       "    </tr>\n",
       "    <tr>\n",
       "      <th>3</th>\n",
       "      <td>Decision Tree</td>\n",
       "      <td>0.893641</td>\n",
       "    </tr>\n",
       "    <tr>\n",
       "      <th>4</th>\n",
       "      <td>Random Forest</td>\n",
       "      <td>0.932470</td>\n",
       "    </tr>\n",
       "    <tr>\n",
       "      <th>5</th>\n",
       "      <td>Navie Bayes</td>\n",
       "      <td>0.931908</td>\n",
       "    </tr>\n",
       "  </tbody>\n",
       "</table>\n",
       "</div>"
      ],
      "text/plain": [
       "                 Model  Accuracy\n",
       "0  Logistic Regression  0.931345\n",
       "1                  SVM  0.931908\n",
       "2                  KNN  0.926280\n",
       "3        Decision Tree  0.893641\n",
       "4        Random Forest  0.932470\n",
       "5          Navie Bayes  0.931908"
      ]
     },
     "execution_count": 30,
     "metadata": {},
     "output_type": "execute_result"
    }
   ],
   "source": [
    "#accuracy list for all classification models\n",
    "model_df = pd.DataFrame({'Model': models_list, 'Accuracy':acc_list})\n",
    "model_df"
   ]
  },
  {
   "cell_type": "code",
   "execution_count": 31,
   "id": "214c0fb4",
   "metadata": {
    "scrolled": true
   },
   "outputs": [
    {
     "name": "stdout",
     "output_type": "stream",
     "text": [
      "      booking_id  Car_Cancellation\n",
      "4445        4446                 0\n",
      "3329        3330                 0\n",
      "1893        1894                 0\n",
      "2972        2973                 0\n",
      "6649        6650                 0\n",
      "...          ...               ...\n",
      "809          810                 0\n",
      "3049        3050                 0\n",
      "5580        5581                 0\n",
      "577          578                 0\n",
      "2221        2222                 0\n",
      "\n",
      "[1777 rows x 2 columns]\n"
     ]
    }
   ],
   "source": [
    "predicted = pd.DataFrame({\"booking_id\":X_test['booking_id'],\"Car_Cancellation\":model_pipeline[-1].predict(X_test)})\n",
    "print(predicted)"
   ]
  },
  {
   "cell_type": "code",
   "execution_count": 32,
   "id": "2a0c4c4c",
   "metadata": {},
   "outputs": [],
   "source": [
    "#predictions of traing dataframe\n",
    "predicted = pd.DataFrame({\"booking_id\":X_test['booking_id'],\"Car_Cancellation\":model.predict(X_test)})"
   ]
  },
  {
   "cell_type": "code",
   "execution_count": 33,
   "id": "03270c18",
   "metadata": {
    "scrolled": false
   },
   "outputs": [
    {
     "data": {
      "text/html": [
       "<div>\n",
       "<style scoped>\n",
       "    .dataframe tbody tr th:only-of-type {\n",
       "        vertical-align: middle;\n",
       "    }\n",
       "\n",
       "    .dataframe tbody tr th {\n",
       "        vertical-align: top;\n",
       "    }\n",
       "\n",
       "    .dataframe thead th {\n",
       "        text-align: right;\n",
       "    }\n",
       "</style>\n",
       "<table border=\"1\" class=\"dataframe\">\n",
       "  <thead>\n",
       "    <tr style=\"text-align: right;\">\n",
       "      <th></th>\n",
       "      <th>Car_Cancellation</th>\n",
       "    </tr>\n",
       "    <tr>\n",
       "      <th>booking_id</th>\n",
       "      <th></th>\n",
       "    </tr>\n",
       "  </thead>\n",
       "  <tbody>\n",
       "    <tr>\n",
       "      <th>10093</th>\n",
       "      <td>0</td>\n",
       "    </tr>\n",
       "    <tr>\n",
       "      <th>10094</th>\n",
       "      <td>0</td>\n",
       "    </tr>\n",
       "    <tr>\n",
       "      <th>10095</th>\n",
       "      <td>0</td>\n",
       "    </tr>\n",
       "    <tr>\n",
       "      <th>10096</th>\n",
       "      <td>0</td>\n",
       "    </tr>\n",
       "    <tr>\n",
       "      <th>10097</th>\n",
       "      <td>0</td>\n",
       "    </tr>\n",
       "    <tr>\n",
       "      <th>...</th>\n",
       "      <td>...</td>\n",
       "    </tr>\n",
       "    <tr>\n",
       "      <th>12955</th>\n",
       "      <td>0</td>\n",
       "    </tr>\n",
       "    <tr>\n",
       "      <th>12956</th>\n",
       "      <td>0</td>\n",
       "    </tr>\n",
       "    <tr>\n",
       "      <th>12957</th>\n",
       "      <td>0</td>\n",
       "    </tr>\n",
       "    <tr>\n",
       "      <th>12958</th>\n",
       "      <td>0</td>\n",
       "    </tr>\n",
       "    <tr>\n",
       "      <th>12959</th>\n",
       "      <td>0</td>\n",
       "    </tr>\n",
       "  </tbody>\n",
       "</table>\n",
       "<p>2867 rows × 1 columns</p>\n",
       "</div>"
      ],
      "text/plain": [
       "            Car_Cancellation\n",
       "booking_id                  \n",
       "10093                      0\n",
       "10094                      0\n",
       "10095                      0\n",
       "10096                      0\n",
       "10097                      0\n",
       "...                      ...\n",
       "12955                      0\n",
       "12956                      0\n",
       "12957                      0\n",
       "12958                      0\n",
       "12959                      0\n",
       "\n",
       "[2867 rows x 1 columns]"
      ]
     },
     "execution_count": 33,
     "metadata": {},
     "output_type": "execute_result"
    }
   ],
   "source": [
    "#predictions of the test dataframe\n",
    "test_predictions = pd.DataFrame({\"booking_id\":taxi_testing['booking_id'], \"Car_Cancellation\":model.predict(taxi_testing)}).set_index('booking_id')\n",
    "test_predictions"
   ]
  },
  {
   "cell_type": "code",
   "execution_count": 34,
   "id": "16b44e72",
   "metadata": {},
   "outputs": [
    {
     "data": {
      "text/html": [
       "<div>\n",
       "<style scoped>\n",
       "    .dataframe tbody tr th:only-of-type {\n",
       "        vertical-align: middle;\n",
       "    }\n",
       "\n",
       "    .dataframe tbody tr th {\n",
       "        vertical-align: top;\n",
       "    }\n",
       "\n",
       "    .dataframe thead th {\n",
       "        text-align: right;\n",
       "    }\n",
       "</style>\n",
       "<table border=\"1\" class=\"dataframe\">\n",
       "  <thead>\n",
       "    <tr style=\"text-align: right;\">\n",
       "      <th></th>\n",
       "      <th>Car_Cancellation</th>\n",
       "    </tr>\n",
       "    <tr>\n",
       "      <th>booking_id</th>\n",
       "      <th></th>\n",
       "    </tr>\n",
       "  </thead>\n",
       "  <tbody>\n",
       "    <tr>\n",
       "      <th>10093</th>\n",
       "      <td>0</td>\n",
       "    </tr>\n",
       "    <tr>\n",
       "      <th>10094</th>\n",
       "      <td>0</td>\n",
       "    </tr>\n",
       "    <tr>\n",
       "      <th>10095</th>\n",
       "      <td>0</td>\n",
       "    </tr>\n",
       "    <tr>\n",
       "      <th>10096</th>\n",
       "      <td>0</td>\n",
       "    </tr>\n",
       "    <tr>\n",
       "      <th>10097</th>\n",
       "      <td>0</td>\n",
       "    </tr>\n",
       "  </tbody>\n",
       "</table>\n",
       "</div>"
      ],
      "text/plain": [
       "            Car_Cancellation\n",
       "booking_id                  \n",
       "10093                      0\n",
       "10094                      0\n",
       "10095                      0\n",
       "10096                      0\n",
       "10097                      0"
      ]
     },
     "execution_count": 34,
     "metadata": {},
     "output_type": "execute_result"
    }
   ],
   "source": [
    "test_predictions.head()"
   ]
  },
  {
   "cell_type": "code",
   "execution_count": 35,
   "id": "4e643eed",
   "metadata": {},
   "outputs": [],
   "source": [
    "#saving predicted test data file in csv\n",
    "test_predictions.to_csv('test_predictions.csv')"
   ]
  },
  {
   "cell_type": "code",
   "execution_count": null,
   "id": "c9c220d2",
   "metadata": {},
   "outputs": [],
   "source": []
  },
  {
   "cell_type": "code",
   "execution_count": null,
   "id": "900b9579",
   "metadata": {},
   "outputs": [],
   "source": []
  }
 ],
 "metadata": {
  "kernelspec": {
   "display_name": "Python 3 (ipykernel)",
   "language": "python",
   "name": "python3"
  },
  "language_info": {
   "codemirror_mode": {
    "name": "ipython",
    "version": 3
   },
   "file_extension": ".py",
   "mimetype": "text/x-python",
   "name": "python",
   "nbconvert_exporter": "python",
   "pygments_lexer": "ipython3",
   "version": "3.8.12"
  }
 },
 "nbformat": 4,
 "nbformat_minor": 5
}
